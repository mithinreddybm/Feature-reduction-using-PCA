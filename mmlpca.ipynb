{
 "cells": [
  {
   "cell_type": "code",
   "execution_count": 100,
   "id": "a38172db",
   "metadata": {},
   "outputs": [
    {
     "data": {
      "text/html": [
       "<div>\n",
       "<style scoped>\n",
       "    .dataframe tbody tr th:only-of-type {\n",
       "        vertical-align: middle;\n",
       "    }\n",
       "\n",
       "    .dataframe tbody tr th {\n",
       "        vertical-align: top;\n",
       "    }\n",
       "\n",
       "    .dataframe thead th {\n",
       "        text-align: right;\n",
       "    }\n",
       "</style>\n",
       "<table border=\"1\" class=\"dataframe\">\n",
       "  <thead>\n",
       "    <tr style=\"text-align: right;\">\n",
       "      <th></th>\n",
       "      <th>C1</th>\n",
       "      <th>C2</th>\n",
       "      <th>C3</th>\n",
       "      <th>C4</th>\n",
       "      <th>C5</th>\n",
       "    </tr>\n",
       "  </thead>\n",
       "  <tbody>\n",
       "    <tr>\n",
       "      <th>0</th>\n",
       "      <td>65.0</td>\n",
       "      <td>73.0</td>\n",
       "      <td>34.0</td>\n",
       "      <td>71.0</td>\n",
       "      <td>74.0</td>\n",
       "    </tr>\n",
       "    <tr>\n",
       "      <th>1</th>\n",
       "      <td>64.0</td>\n",
       "      <td>80.0</td>\n",
       "      <td>51.0</td>\n",
       "      <td>75.0</td>\n",
       "      <td>87.0</td>\n",
       "    </tr>\n",
       "    <tr>\n",
       "      <th>2</th>\n",
       "      <td>68.0</td>\n",
       "      <td>80.0</td>\n",
       "      <td>52.0</td>\n",
       "      <td>64.0</td>\n",
       "      <td>77.0</td>\n",
       "    </tr>\n",
       "    <tr>\n",
       "      <th>3</th>\n",
       "      <td>61.0</td>\n",
       "      <td>71.0</td>\n",
       "      <td>53.0</td>\n",
       "      <td>85.0</td>\n",
       "      <td>87.0</td>\n",
       "    </tr>\n",
       "    <tr>\n",
       "      <th>4</th>\n",
       "      <td>67.0</td>\n",
       "      <td>51.0</td>\n",
       "      <td>54.0</td>\n",
       "      <td>45.0</td>\n",
       "      <td>66.0</td>\n",
       "    </tr>\n",
       "  </tbody>\n",
       "</table>\n",
       "</div>"
      ],
      "text/plain": [
       "     C1    C2    C3    C4    C5\n",
       "0  65.0  73.0  34.0  71.0  74.0\n",
       "1  64.0  80.0  51.0  75.0  87.0\n",
       "2  68.0  80.0  52.0  64.0  77.0\n",
       "3  61.0  71.0  53.0  85.0  87.0\n",
       "4  67.0  51.0  54.0  45.0  66.0"
      ]
     },
     "execution_count": 100,
     "metadata": {},
     "output_type": "execute_result"
    }
   ],
   "source": [
    "import pandas as pd\n",
    "import numpy as np\n",
    "from sklearn.decomposition import PCA\n",
    "from sklearn.preprocessing import StandardScaler\n",
    "import scipy.linalg as la\n",
    "\n",
    "df = pd.read_csv(\"E:\\data sets\\mathsdataset.csv\")\n",
    "df.head()"
   ]
  },
  {
   "cell_type": "code",
   "execution_count": 57,
   "id": "88306845",
   "metadata": {},
   "outputs": [],
   "source": [
    "# Prepare the data\n",
    "scaler = StandardScaler()\n",
    "scaled_data = scaler.fit_transform(df)\n"
   ]
  },
  {
   "cell_type": "code",
   "execution_count": 79,
   "id": "f4130a44",
   "metadata": {},
   "outputs": [
    {
     "data": {
      "text/plain": [
       "array([[ 1.02380952,  0.29943684,  0.22704342, -0.02003864, -0.12535509],\n",
       "       [ 0.29943684,  1.02380952,  0.28042538,  0.6188326 ,  0.59438571],\n",
       "       [ 0.22704342,  0.28042538,  1.02380952,  0.24097965,  0.30827073],\n",
       "       [-0.02003864,  0.6188326 ,  0.24097965,  1.02380952,  0.63019808],\n",
       "       [-0.12535509,  0.59438571,  0.30827073,  0.63019808,  1.02380952]])"
      ]
     },
     "execution_count": 79,
     "metadata": {},
     "output_type": "execute_result"
    }
   ],
   "source": [
    "#Covariance Matrix Calculation\n",
    "covariance_matrix = np.cov(scaled_data.T)\n",
    "covariance_matrix "
   ]
  },
  {
   "cell_type": "code",
   "execution_count": 78,
   "id": "ea0fb4f9",
   "metadata": {},
   "outputs": [
    {
     "name": "stdout",
     "output_type": "stream",
     "text": [
      "Eigenvalues:\n",
      "[2.43568319 1.22187655 0.79612226 0.2818988  0.38346682]\n",
      "\n",
      "Eigenvectors:\n",
      "[[ 0.11575128  0.83486689  0.33549402  0.42067727  0.0085631 ]\n",
      " [ 0.55037393  0.12635536  0.36432537 -0.69779944  0.24792302]\n",
      " [ 0.3357494   0.36923272 -0.84820177 -0.14667182 -0.09990333]\n",
      " [ 0.53505135 -0.23163286  0.16819621  0.19402363 -0.77079903]\n",
      " [ 0.53355654 -0.3115205  -0.08351397  0.52625923  0.57822922]]\n"
     ]
    }
   ],
   "source": [
    "#Eigenvalue and Eigenvector Calculation\n",
    "eigenvalues, eigenvectors = np.linalg.eig(covariance_matrix)\n",
    "\n",
    "# Print the results\n",
    "print(\"Eigenvalues:\")\n",
    "print(eigenvalues)\n",
    "print(\"\\nEigenvectors:\")\n",
    "print(eigenvectors)"
   ]
  },
  {
   "cell_type": "code",
   "execution_count": 85,
   "id": "4418cf33",
   "metadata": {},
   "outputs": [
    {
     "name": "stdout",
     "output_type": "stream",
     "text": [
      "Sorted Eigenvalues:\n",
      "[2.43568319 1.22187655 0.79612226 0.38346682 0.2818988 ]\n",
      "\n",
      "Sorted Eigenvectors:\n",
      "[[ 0.11575128  0.83486689  0.33549402  0.0085631   0.42067727]\n",
      " [ 0.55037393  0.12635536  0.36432537  0.24792302 -0.69779944]\n",
      " [ 0.3357494   0.36923272 -0.84820177 -0.09990333 -0.14667182]\n",
      " [ 0.53505135 -0.23163286  0.16819621 -0.77079903  0.19402363]\n",
      " [ 0.53355654 -0.3115205  -0.08351397  0.57822922  0.52625923]]\n"
     ]
    }
   ],
   "source": [
    "#Sorting the Components\n",
    "sorted_indices = np.argsort(eigenvalues)[::-1]  # Sort eigenvalues in descending order\n",
    "sorted_eigenvalues = eigenvalues[sorted_indices]\n",
    "sorted_eigenvectors = eigenvectors[:, sorted_indices]\n",
    "# Printing the results\n",
    "print(\"Sorted Eigenvalues:\")\n",
    "print(sorted_eigenvalues)\n",
    "print(\"\\nSorted Eigenvectors:\")\n",
    "print(sorted_eigenvectors)"
   ]
  },
  {
   "cell_type": "code",
   "execution_count": 89,
   "id": "0839afcf",
   "metadata": {},
   "outputs": [
    {
     "name": "stdout",
     "output_type": "stream",
     "text": [
      "Explained Variance Ratio:\n",
      "[0.47580788 0.23869216 0.15552156 0.0749098  0.0550686 ]\n",
      "Cumulative Variance Ratio:\n",
      "[0.47580788 0.71450004 0.8700216  0.9449314  1.        ]\n"
     ]
    }
   ],
   "source": [
    "#Choosing the Number of Components\n",
    "explained_variance_ratio = sorted_eigenvalues / np.sum(sorted_eigenvalues)\n",
    "cumulative_variance_ratio = np.cumsum(explained_variance_ratio)\n",
    "n_components = np.argmax(cumulative_variance_ratio >= 0.95) + 1  # Select components explaining 95% of the variance\n",
    "\n",
    "print(\"Explained Variance Ratio:\")\n",
    "print(explained_variance_ratio)\n",
    "print(\"Cumulative Variance Ratio:\")\n",
    "print(cumulative_variance_ratio)\n"
   ]
  },
  {
   "cell_type": "code",
   "execution_count": 172,
   "id": "197d6055",
   "metadata": {},
   "outputs": [
    {
     "data": {
      "text/html": [
       "<div>\n",
       "<style scoped>\n",
       "    .dataframe tbody tr th:only-of-type {\n",
       "        vertical-align: middle;\n",
       "    }\n",
       "\n",
       "    .dataframe tbody tr th {\n",
       "        vertical-align: top;\n",
       "    }\n",
       "\n",
       "    .dataframe thead th {\n",
       "        text-align: right;\n",
       "    }\n",
       "</style>\n",
       "<table border=\"1\" class=\"dataframe\">\n",
       "  <thead>\n",
       "    <tr style=\"text-align: right;\">\n",
       "      <th></th>\n",
       "      <th>0</th>\n",
       "      <th>1</th>\n",
       "      <th>2</th>\n",
       "      <th>3</th>\n",
       "      <th>4</th>\n",
       "    </tr>\n",
       "  </thead>\n",
       "  <tbody>\n",
       "    <tr>\n",
       "      <th>0</th>\n",
       "      <td>2.001956</td>\n",
       "      <td>-1.840493</td>\n",
       "      <td>3.447027</td>\n",
       "      <td>0.416684</td>\n",
       "      <td>-0.115572</td>\n",
       "    </tr>\n",
       "    <tr>\n",
       "      <th>1</th>\n",
       "      <td>-0.198231</td>\n",
       "      <td>-1.357451</td>\n",
       "      <td>1.231248</td>\n",
       "      <td>0.846801</td>\n",
       "      <td>-0.007221</td>\n",
       "    </tr>\n",
       "    <tr>\n",
       "      <th>2</th>\n",
       "      <td>0.763188</td>\n",
       "      <td>-0.319936</td>\n",
       "      <td>1.196589</td>\n",
       "      <td>0.932971</td>\n",
       "      <td>0.550687</td>\n",
       "    </tr>\n",
       "    <tr>\n",
       "      <th>3</th>\n",
       "      <td>-0.260523</td>\n",
       "      <td>-1.858092</td>\n",
       "      <td>0.666702</td>\n",
       "      <td>-0.050577</td>\n",
       "      <td>-0.544116</td>\n",
       "    </tr>\n",
       "    <tr>\n",
       "      <th>4</th>\n",
       "      <td>3.640094</td>\n",
       "      <td>0.098667</td>\n",
       "      <td>-0.271699</td>\n",
       "      <td>0.794930</td>\n",
       "      <td>-0.281268</td>\n",
       "    </tr>\n",
       "  </tbody>\n",
       "</table>\n",
       "</div>"
      ],
      "text/plain": [
       "          0         1         2         3         4\n",
       "0  2.001956 -1.840493  3.447027  0.416684 -0.115572\n",
       "1 -0.198231 -1.357451  1.231248  0.846801 -0.007221\n",
       "2  0.763188 -0.319936  1.196589  0.932971  0.550687\n",
       "3 -0.260523 -1.858092  0.666702 -0.050577 -0.544116\n",
       "4  3.640094  0.098667 -0.271699  0.794930 -0.281268"
      ]
     },
     "execution_count": 172,
     "metadata": {},
     "output_type": "execute_result"
    }
   ],
   "source": [
    "#Projection\n",
    "pca = PCA(n_components=5)\n",
    "transformed_data = pca.fit_transform(scaled_data)\n",
    "X_pca = pd.DataFrame(transformed_data)\n",
    "X_pca.head()\n"
   ]
  },
  {
   "cell_type": "code",
   "execution_count": 173,
   "id": "6f96e660",
   "metadata": {},
   "outputs": [],
   "source": [
    "#Feature Selection\n",
    "# Identify the components that contribute most to the variance explained\n",
    "explained_variance_ratio = pca.explained_variance_ratio_\n",
    "cumulative_variance_ratio = np.cumsum(explained_variance_ratio)\n"
   ]
  },
  {
   "cell_type": "code",
   "execution_count": 178,
   "id": "a41e5bfa",
   "metadata": {},
   "outputs": [],
   "source": [
    "# Determine the number of components explaining a desired amount of variance (e.g., 90%)\n",
    "desired_variance = 0.8\n",
    "n_components = np.argmax(cumulative_variance_ratio >= desired_variance) + 1\n"
   ]
  },
  {
   "cell_type": "code",
   "execution_count": 183,
   "id": "900bdd7f",
   "metadata": {},
   "outputs": [],
   "source": [
    "# Select the top n_components and reconstruct the data\n",
    "X_selected = df_pca.iloc[:, :n_components]\n",
    "X_reconstructed = np.dot(X_selected, pca.components_[:n_components, :]) + pca.mean_"
   ]
  },
  {
   "cell_type": "code",
   "execution_count": 185,
   "id": "fb776453",
   "metadata": {},
   "outputs": [
    {
     "data": {
      "text/plain": [
       "0    3.881038\n",
       "1    1.734767\n",
       "2    3.087083\n",
       "3    1.141652\n",
       "4    1.073857\n",
       "dtype: float64"
      ]
     },
     "execution_count": 185,
     "metadata": {},
     "output_type": "execute_result"
    }
   ],
   "source": [
    "# Step 4: Error Analysis\n",
    "# Calculate the reconstruction error (mean squared error) between the original and reconstructed data\n",
    "mse = np.mean((X_pca - X_reconstructed) ** 2)\n",
    "mse"
   ]
  },
  {
   "cell_type": "code",
   "execution_count": null,
   "id": "b412b4e2",
   "metadata": {},
   "outputs": [],
   "source": []
  },
  {
   "cell_type": "code",
   "execution_count": null,
   "id": "5287b349",
   "metadata": {},
   "outputs": [],
   "source": []
  }
 ],
 "metadata": {
  "kernelspec": {
   "display_name": "Python 3 (ipykernel)",
   "language": "python",
   "name": "python3"
  },
  "language_info": {
   "codemirror_mode": {
    "name": "ipython",
    "version": 3
   },
   "file_extension": ".py",
   "mimetype": "text/x-python",
   "name": "python",
   "nbconvert_exporter": "python",
   "pygments_lexer": "ipython3",
   "version": "3.9.13"
  }
 },
 "nbformat": 4,
 "nbformat_minor": 5
}
